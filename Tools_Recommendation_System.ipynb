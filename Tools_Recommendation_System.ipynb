{
 "cells": [
  {
   "cell_type": "code",
   "execution_count": 4,
   "metadata": {
    "id": "noiyizLUDNP5"
   },
   "outputs": [],
   "source": [
    "import pandas as pd\n",
    "import numpy as np\n",
    "import re\n",
    "from sklearn.feature_extraction.text import TfidfVectorizer\n",
    "import nltk\n",
    "from nltk.stem.porter import PorterStemmer"
   ]
  },
  {
   "cell_type": "code",
   "execution_count": 5,
   "metadata": {
    "colab": {
     "base_uri": "https://localhost:8080/",
     "height": 293
    },
    "id": "c3FaJdzoDigk",
    "outputId": "75ddb88f-3dc7-40e8-ba03-97451e24229a"
   },
   "outputs": [
    {
     "data": {
      "text/html": [
       "<div>\n",
       "<style scoped>\n",
       "    .dataframe tbody tr th:only-of-type {\n",
       "        vertical-align: middle;\n",
       "    }\n",
       "\n",
       "    .dataframe tbody tr th {\n",
       "        vertical-align: top;\n",
       "    }\n",
       "\n",
       "    .dataframe thead th {\n",
       "        text-align: right;\n",
       "    }\n",
       "</style>\n",
       "<table border=\"1\" class=\"dataframe\">\n",
       "  <thead>\n",
       "    <tr style=\"text-align: right;\">\n",
       "      <th></th>\n",
       "      <th>Tool Name</th>\n",
       "      <th>Category</th>\n",
       "      <th>Features</th>\n",
       "      <th>Pricing</th>\n",
       "      <th>Reviews</th>\n",
       "      <th>Target Audience</th>\n",
       "    </tr>\n",
       "  </thead>\n",
       "  <tbody>\n",
       "    <tr>\n",
       "      <th>0</th>\n",
       "      <td>Deepcrawl</td>\n",
       "      <td>SEO, keyword research, competitive analysis</td>\n",
       "      <td>A usability testing platform that helps you ge...</td>\n",
       "      <td>Starts at $499/month</td>\n",
       "      <td>4.9/5 stars (5,000+reviews)</td>\n",
       "      <td>Businesses of all sizes</td>\n",
       "    </tr>\n",
       "    <tr>\n",
       "      <th>1</th>\n",
       "      <td>SearchAtlas</td>\n",
       "      <td>SEO, keyword research, competitive analysis</td>\n",
       "      <td>An SEO tool that helps you understand your web...</td>\n",
       "      <td>Starts at $299/month</td>\n",
       "      <td>4.9/5 stars (1,000+reviews)</td>\n",
       "      <td>Businesses of all sizes</td>\n",
       "    </tr>\n",
       "    <tr>\n",
       "      <th>2</th>\n",
       "      <td>SpyFu</td>\n",
       "      <td>SEO, keyword research, competitive analysis</td>\n",
       "      <td>An SEO tool that helps you research your compe...</td>\n",
       "      <td>Starts at $39/month</td>\n",
       "      <td>4.8/5 stars (10,000+reviews)</td>\n",
       "      <td>Businesses of all sizes</td>\n",
       "    </tr>\n",
       "    <tr>\n",
       "      <th>3</th>\n",
       "      <td>Answer The Public</td>\n",
       "      <td>SEO, keyword research, competitive analysis</td>\n",
       "      <td>A free SEO tool that helps you find questions ...</td>\n",
       "      <td>Free</td>\n",
       "      <td>4.9/5 stars (100,000+reviews)</td>\n",
       "      <td>Businesses of all sizes</td>\n",
       "    </tr>\n",
       "    <tr>\n",
       "      <th>4</th>\n",
       "      <td>SEO Site Checkup</td>\n",
       "      <td>SEO, keyword research, competitive analysis</td>\n",
       "      <td>A website crawler that helps you identify SEO ...</td>\n",
       "      <td>Starts at $19.99/month</td>\n",
       "      <td>4.4/5 stars (1000+ reviews)</td>\n",
       "      <td>Businesses of all sizes</td>\n",
       "    </tr>\n",
       "  </tbody>\n",
       "</table>\n",
       "</div>"
      ],
      "text/plain": [
       "           Tool Name                                     Category  \\\n",
       "0          Deepcrawl  SEO, keyword research, competitive analysis   \n",
       "1        SearchAtlas  SEO, keyword research, competitive analysis   \n",
       "2              SpyFu  SEO, keyword research, competitive analysis   \n",
       "3  Answer The Public  SEO, keyword research, competitive analysis   \n",
       "4   SEO Site Checkup  SEO, keyword research, competitive analysis   \n",
       "\n",
       "                                            Features                 Pricing  \\\n",
       "0  A usability testing platform that helps you ge...    Starts at $499/month   \n",
       "1  An SEO tool that helps you understand your web...    Starts at $299/month   \n",
       "2  An SEO tool that helps you research your compe...     Starts at $39/month   \n",
       "3  A free SEO tool that helps you find questions ...                    Free   \n",
       "4  A website crawler that helps you identify SEO ...  Starts at $19.99/month   \n",
       "\n",
       "                         Reviews          Target Audience  \n",
       "0    4.9/5 stars (5,000+reviews)  Businesses of all sizes  \n",
       "1    4.9/5 stars (1,000+reviews)  Businesses of all sizes  \n",
       "2   4.8/5 stars (10,000+reviews)  Businesses of all sizes  \n",
       "3  4.9/5 stars (100,000+reviews)  Businesses of all sizes  \n",
       "4    4.4/5 stars (1000+ reviews)  Businesses of all sizes  "
      ]
     },
     "execution_count": 5,
     "metadata": {},
     "output_type": "execute_result"
    }
   ],
   "source": [
    "df=pd.read_csv('usable_dataset1.csv')\n",
    "df.head()"
   ]
  },
  {
   "cell_type": "code",
   "execution_count": 6,
   "metadata": {
    "colab": {
     "base_uri": "https://localhost:8080/"
    },
    "id": "OtFUxvpaIYk4",
    "outputId": "742f06c1-82b8-4502-c419-21db57aedc23"
   },
   "outputs": [
    {
     "data": {
      "text/plain": [
       "Tool Name          0\n",
       "Category           0\n",
       "Features           0\n",
       "Pricing            0\n",
       "Reviews            0\n",
       "Target Audience    0\n",
       "dtype: int64"
      ]
     },
     "execution_count": 6,
     "metadata": {},
     "output_type": "execute_result"
    }
   ],
   "source": [
    "df.isnull().sum()"
   ]
  },
  {
   "cell_type": "code",
   "execution_count": 7,
   "metadata": {
    "colab": {
     "base_uri": "https://localhost:8080/",
     "height": 36
    },
    "id": "iZcGVVOKInra",
    "outputId": "c5eea7c4-ce5c-4496-8db4-a299c1707e78"
   },
   "outputs": [
    {
     "data": {
      "text/plain": [
       "'4/5 stars (500+ reviews)'"
      ]
     },
     "execution_count": 7,
     "metadata": {},
     "output_type": "execute_result"
    }
   ],
   "source": [
    "df['Reviews'][38]\n"
   ]
  },
  {
   "cell_type": "code",
   "execution_count": 8,
   "metadata": {
    "colab": {
     "base_uri": "https://localhost:8080/",
     "height": 36
    },
    "id": "JW-TVLUDJKQ7",
    "outputId": "76960dc1-9bd0-4adb-8bc3-4b74539358fa"
   },
   "outputs": [
    {
     "data": {
      "text/plain": [
       "'3.9/5 stars (10,000+ reviews)'"
      ]
     },
     "execution_count": 8,
     "metadata": {},
     "output_type": "execute_result"
    }
   ],
   "source": [
    "df['Reviews'][37]"
   ]
  },
  {
   "cell_type": "code",
   "execution_count": 9,
   "metadata": {
    "id": "N1ZXtHrnDpwG"
   },
   "outputs": [],
   "source": [
    "def extract_price(price_str):\n",
    "    match = re.search(r'[\\d.]+', price_str)\n",
    "    if match:\n",
    "        return float(match.group())\n",
    "    else:\n",
    "        return None"
   ]
  },
  {
   "cell_type": "code",
   "execution_count": 10,
   "metadata": {
    "id": "Umc4EXQHDuF5"
   },
   "outputs": [],
   "source": [
    "# Apply the function to the \"Price\" column\n",
    "df['Pricing'] = df['Pricing'].apply(extract_price)\n",
    "\n",
    "# Remove non-numeric characters from the \"Rating\" column and convert to numeric\n",
    "df['Reviews'] = df['Reviews'].str.extract(r'(\\d+(?:\\.\\d+)?)').astype(float)"
   ]
  },
  {
   "cell_type": "code",
   "execution_count": 11,
   "metadata": {
    "id": "5Zq_DzRWKTkP"
   },
   "outputs": [],
   "source": [
    "df['Pricing'].fillna('free', inplace=True)"
   ]
  },
  {
   "cell_type": "code",
   "execution_count": 12,
   "metadata": {
    "colab": {
     "base_uri": "https://localhost:8080/",
     "height": 206
    },
    "id": "Km6x6G4uDxUd",
    "outputId": "e330e5c5-ac22-42cd-9a0c-6867ea24ea51"
   },
   "outputs": [
    {
     "data": {
      "text/html": [
       "<div>\n",
       "<style scoped>\n",
       "    .dataframe tbody tr th:only-of-type {\n",
       "        vertical-align: middle;\n",
       "    }\n",
       "\n",
       "    .dataframe tbody tr th {\n",
       "        vertical-align: top;\n",
       "    }\n",
       "\n",
       "    .dataframe thead th {\n",
       "        text-align: right;\n",
       "    }\n",
       "</style>\n",
       "<table border=\"1\" class=\"dataframe\">\n",
       "  <thead>\n",
       "    <tr style=\"text-align: right;\">\n",
       "      <th></th>\n",
       "      <th>Tool Name</th>\n",
       "      <th>Category</th>\n",
       "      <th>Features</th>\n",
       "      <th>Pricing</th>\n",
       "      <th>Reviews</th>\n",
       "      <th>Target Audience</th>\n",
       "    </tr>\n",
       "  </thead>\n",
       "  <tbody>\n",
       "    <tr>\n",
       "      <th>0</th>\n",
       "      <td>Deepcrawl</td>\n",
       "      <td>SEO, keyword research, competitive analysis</td>\n",
       "      <td>A usability testing platform that helps you ge...</td>\n",
       "      <td>499.0</td>\n",
       "      <td>4.9</td>\n",
       "      <td>Businesses of all sizes</td>\n",
       "    </tr>\n",
       "    <tr>\n",
       "      <th>1</th>\n",
       "      <td>SearchAtlas</td>\n",
       "      <td>SEO, keyword research, competitive analysis</td>\n",
       "      <td>An SEO tool that helps you understand your web...</td>\n",
       "      <td>299.0</td>\n",
       "      <td>4.9</td>\n",
       "      <td>Businesses of all sizes</td>\n",
       "    </tr>\n",
       "    <tr>\n",
       "      <th>2</th>\n",
       "      <td>SpyFu</td>\n",
       "      <td>SEO, keyword research, competitive analysis</td>\n",
       "      <td>An SEO tool that helps you research your compe...</td>\n",
       "      <td>39.0</td>\n",
       "      <td>4.8</td>\n",
       "      <td>Businesses of all sizes</td>\n",
       "    </tr>\n",
       "    <tr>\n",
       "      <th>3</th>\n",
       "      <td>Answer The Public</td>\n",
       "      <td>SEO, keyword research, competitive analysis</td>\n",
       "      <td>A free SEO tool that helps you find questions ...</td>\n",
       "      <td>free</td>\n",
       "      <td>4.9</td>\n",
       "      <td>Businesses of all sizes</td>\n",
       "    </tr>\n",
       "    <tr>\n",
       "      <th>4</th>\n",
       "      <td>SEO Site Checkup</td>\n",
       "      <td>SEO, keyword research, competitive analysis</td>\n",
       "      <td>A website crawler that helps you identify SEO ...</td>\n",
       "      <td>19.99</td>\n",
       "      <td>4.4</td>\n",
       "      <td>Businesses of all sizes</td>\n",
       "    </tr>\n",
       "  </tbody>\n",
       "</table>\n",
       "</div>"
      ],
      "text/plain": [
       "           Tool Name                                     Category  \\\n",
       "0          Deepcrawl  SEO, keyword research, competitive analysis   \n",
       "1        SearchAtlas  SEO, keyword research, competitive analysis   \n",
       "2              SpyFu  SEO, keyword research, competitive analysis   \n",
       "3  Answer The Public  SEO, keyword research, competitive analysis   \n",
       "4   SEO Site Checkup  SEO, keyword research, competitive analysis   \n",
       "\n",
       "                                            Features Pricing  Reviews  \\\n",
       "0  A usability testing platform that helps you ge...   499.0      4.9   \n",
       "1  An SEO tool that helps you understand your web...   299.0      4.9   \n",
       "2  An SEO tool that helps you research your compe...    39.0      4.8   \n",
       "3  A free SEO tool that helps you find questions ...    free      4.9   \n",
       "4  A website crawler that helps you identify SEO ...   19.99      4.4   \n",
       "\n",
       "           Target Audience  \n",
       "0  Businesses of all sizes  \n",
       "1  Businesses of all sizes  \n",
       "2  Businesses of all sizes  \n",
       "3  Businesses of all sizes  \n",
       "4  Businesses of all sizes  "
      ]
     },
     "execution_count": 12,
     "metadata": {},
     "output_type": "execute_result"
    }
   ],
   "source": [
    "df.head()"
   ]
  },
  {
   "cell_type": "code",
   "execution_count": 13,
   "metadata": {
    "colab": {
     "base_uri": "https://localhost:8080/"
    },
    "id": "u6FbH9BMDyQG",
    "outputId": "c097c225-29a6-4403-8adb-9dcb22eaff8f"
   },
   "outputs": [
    {
     "data": {
      "text/plain": [
       "Tool Name          0\n",
       "Category           0\n",
       "Features           0\n",
       "Pricing            0\n",
       "Reviews            0\n",
       "Target Audience    0\n",
       "dtype: int64"
      ]
     },
     "execution_count": 13,
     "metadata": {},
     "output_type": "execute_result"
    }
   ],
   "source": [
    "df.isnull().sum()"
   ]
  },
  {
   "cell_type": "code",
   "execution_count": 14,
   "metadata": {
    "id": "XC3A-4IUKQBX"
   },
   "outputs": [],
   "source": [
    "df['Category']=df['Category'].apply(lambda x:[x])\n"
   ]
  },
  {
   "cell_type": "code",
   "execution_count": 15,
   "metadata": {
    "id": "xaPYqpUzKohY"
   },
   "outputs": [],
   "source": [
    "df['Target Audience']=df['Target Audience'].apply(lambda x:[x])"
   ]
  },
  {
   "cell_type": "code",
   "execution_count": 16,
   "metadata": {
    "id": "tXx0kjl9LIlp"
   },
   "outputs": [],
   "source": [
    "df['Features']=df['Features'].apply(lambda x:x.split(','))"
   ]
  },
  {
   "cell_type": "code",
   "execution_count": 17,
   "metadata": {
    "colab": {
     "base_uri": "https://localhost:8080/",
     "height": 293
    },
    "id": "NDwrj7E9K6W6",
    "outputId": "6366500a-1157-49eb-8bbf-46ef8ac70ac6"
   },
   "outputs": [
    {
     "data": {
      "text/html": [
       "<div>\n",
       "<style scoped>\n",
       "    .dataframe tbody tr th:only-of-type {\n",
       "        vertical-align: middle;\n",
       "    }\n",
       "\n",
       "    .dataframe tbody tr th {\n",
       "        vertical-align: top;\n",
       "    }\n",
       "\n",
       "    .dataframe thead th {\n",
       "        text-align: right;\n",
       "    }\n",
       "</style>\n",
       "<table border=\"1\" class=\"dataframe\">\n",
       "  <thead>\n",
       "    <tr style=\"text-align: right;\">\n",
       "      <th></th>\n",
       "      <th>Tool Name</th>\n",
       "      <th>Category</th>\n",
       "      <th>Features</th>\n",
       "      <th>Pricing</th>\n",
       "      <th>Reviews</th>\n",
       "      <th>Target Audience</th>\n",
       "      <th>Tags</th>\n",
       "    </tr>\n",
       "  </thead>\n",
       "  <tbody>\n",
       "    <tr>\n",
       "      <th>0</th>\n",
       "      <td>Deepcrawl</td>\n",
       "      <td>[SEO, keyword research, competitive analysis]</td>\n",
       "      <td>[A usability testing platform that helps you g...</td>\n",
       "      <td>499.0</td>\n",
       "      <td>4.9</td>\n",
       "      <td>[Businesses of all sizes]</td>\n",
       "      <td>[SEO, keyword research, competitive analysis, ...</td>\n",
       "    </tr>\n",
       "    <tr>\n",
       "      <th>1</th>\n",
       "      <td>SearchAtlas</td>\n",
       "      <td>[SEO, keyword research, competitive analysis]</td>\n",
       "      <td>[An SEO tool that helps you understand your we...</td>\n",
       "      <td>299.0</td>\n",
       "      <td>4.9</td>\n",
       "      <td>[Businesses of all sizes]</td>\n",
       "      <td>[SEO, keyword research, competitive analysis, ...</td>\n",
       "    </tr>\n",
       "    <tr>\n",
       "      <th>2</th>\n",
       "      <td>SpyFu</td>\n",
       "      <td>[SEO, keyword research, competitive analysis]</td>\n",
       "      <td>[An SEO tool that helps you research your comp...</td>\n",
       "      <td>39.0</td>\n",
       "      <td>4.8</td>\n",
       "      <td>[Businesses of all sizes]</td>\n",
       "      <td>[SEO, keyword research, competitive analysis, ...</td>\n",
       "    </tr>\n",
       "    <tr>\n",
       "      <th>3</th>\n",
       "      <td>Answer The Public</td>\n",
       "      <td>[SEO, keyword research, competitive analysis]</td>\n",
       "      <td>[A free SEO tool that helps you find questions...</td>\n",
       "      <td>free</td>\n",
       "      <td>4.9</td>\n",
       "      <td>[Businesses of all sizes]</td>\n",
       "      <td>[SEO, keyword research, competitive analysis, ...</td>\n",
       "    </tr>\n",
       "    <tr>\n",
       "      <th>4</th>\n",
       "      <td>SEO Site Checkup</td>\n",
       "      <td>[SEO, keyword research, competitive analysis]</td>\n",
       "      <td>[A website crawler that helps you identify SEO...</td>\n",
       "      <td>19.99</td>\n",
       "      <td>4.4</td>\n",
       "      <td>[Businesses of all sizes]</td>\n",
       "      <td>[SEO, keyword research, competitive analysis, ...</td>\n",
       "    </tr>\n",
       "  </tbody>\n",
       "</table>\n",
       "</div>"
      ],
      "text/plain": [
       "           Tool Name                                       Category  \\\n",
       "0          Deepcrawl  [SEO, keyword research, competitive analysis]   \n",
       "1        SearchAtlas  [SEO, keyword research, competitive analysis]   \n",
       "2              SpyFu  [SEO, keyword research, competitive analysis]   \n",
       "3  Answer The Public  [SEO, keyword research, competitive analysis]   \n",
       "4   SEO Site Checkup  [SEO, keyword research, competitive analysis]   \n",
       "\n",
       "                                            Features Pricing  Reviews  \\\n",
       "0  [A usability testing platform that helps you g...   499.0      4.9   \n",
       "1  [An SEO tool that helps you understand your we...   299.0      4.9   \n",
       "2  [An SEO tool that helps you research your comp...    39.0      4.8   \n",
       "3  [A free SEO tool that helps you find questions...    free      4.9   \n",
       "4  [A website crawler that helps you identify SEO...   19.99      4.4   \n",
       "\n",
       "             Target Audience  \\\n",
       "0  [Businesses of all sizes]   \n",
       "1  [Businesses of all sizes]   \n",
       "2  [Businesses of all sizes]   \n",
       "3  [Businesses of all sizes]   \n",
       "4  [Businesses of all sizes]   \n",
       "\n",
       "                                                Tags  \n",
       "0  [SEO, keyword research, competitive analysis, ...  \n",
       "1  [SEO, keyword research, competitive analysis, ...  \n",
       "2  [SEO, keyword research, competitive analysis, ...  \n",
       "3  [SEO, keyword research, competitive analysis, ...  \n",
       "4  [SEO, keyword research, competitive analysis, ...  "
      ]
     },
     "execution_count": 17,
     "metadata": {},
     "output_type": "execute_result"
    }
   ],
   "source": [
    "df['Tags']=df['Category']+df['Features']+df['Target Audience']\n",
    "df.head()"
   ]
  },
  {
   "cell_type": "code",
   "execution_count": 18,
   "metadata": {
    "id": "JUOHmkFPLPDQ"
   },
   "outputs": [],
   "source": [
    "new_df=df[['Tool Name','Tags']]"
   ]
  },
  {
   "cell_type": "code",
   "execution_count": 19,
   "metadata": {
    "colab": {
     "base_uri": "https://localhost:8080/",
     "height": 206
    },
    "id": "F-p4AqPtLVgT",
    "outputId": "22c24da8-0d60-4591-e21d-a075419914fe"
   },
   "outputs": [
    {
     "data": {
      "text/html": [
       "<div>\n",
       "<style scoped>\n",
       "    .dataframe tbody tr th:only-of-type {\n",
       "        vertical-align: middle;\n",
       "    }\n",
       "\n",
       "    .dataframe tbody tr th {\n",
       "        vertical-align: top;\n",
       "    }\n",
       "\n",
       "    .dataframe thead th {\n",
       "        text-align: right;\n",
       "    }\n",
       "</style>\n",
       "<table border=\"1\" class=\"dataframe\">\n",
       "  <thead>\n",
       "    <tr style=\"text-align: right;\">\n",
       "      <th></th>\n",
       "      <th>Tool Name</th>\n",
       "      <th>Tags</th>\n",
       "    </tr>\n",
       "  </thead>\n",
       "  <tbody>\n",
       "    <tr>\n",
       "      <th>0</th>\n",
       "      <td>Deepcrawl</td>\n",
       "      <td>[SEO, keyword research, competitive analysis, ...</td>\n",
       "    </tr>\n",
       "    <tr>\n",
       "      <th>1</th>\n",
       "      <td>SearchAtlas</td>\n",
       "      <td>[SEO, keyword research, competitive analysis, ...</td>\n",
       "    </tr>\n",
       "    <tr>\n",
       "      <th>2</th>\n",
       "      <td>SpyFu</td>\n",
       "      <td>[SEO, keyword research, competitive analysis, ...</td>\n",
       "    </tr>\n",
       "    <tr>\n",
       "      <th>3</th>\n",
       "      <td>Answer The Public</td>\n",
       "      <td>[SEO, keyword research, competitive analysis, ...</td>\n",
       "    </tr>\n",
       "    <tr>\n",
       "      <th>4</th>\n",
       "      <td>SEO Site Checkup</td>\n",
       "      <td>[SEO, keyword research, competitive analysis, ...</td>\n",
       "    </tr>\n",
       "  </tbody>\n",
       "</table>\n",
       "</div>"
      ],
      "text/plain": [
       "           Tool Name                                               Tags\n",
       "0          Deepcrawl  [SEO, keyword research, competitive analysis, ...\n",
       "1        SearchAtlas  [SEO, keyword research, competitive analysis, ...\n",
       "2              SpyFu  [SEO, keyword research, competitive analysis, ...\n",
       "3  Answer The Public  [SEO, keyword research, competitive analysis, ...\n",
       "4   SEO Site Checkup  [SEO, keyword research, competitive analysis, ..."
      ]
     },
     "execution_count": 19,
     "metadata": {},
     "output_type": "execute_result"
    }
   ],
   "source": [
    "new_df.head()"
   ]
  },
  {
   "cell_type": "code",
   "execution_count": 20,
   "metadata": {
    "colab": {
     "base_uri": "https://localhost:8080/"
    },
    "id": "2AVIMnNQL-xt",
    "outputId": "989e66a3-bdf9-4738-826f-ac36581717fa"
   },
   "outputs": [
    {
     "name": "stderr",
     "output_type": "stream",
     "text": [
      "/tmp/ipykernel_7438/1146922156.py:1: SettingWithCopyWarning: \n",
      "A value is trying to be set on a copy of a slice from a DataFrame.\n",
      "Try using .loc[row_indexer,col_indexer] = value instead\n",
      "\n",
      "See the caveats in the documentation: https://pandas.pydata.org/pandas-docs/stable/user_guide/indexing.html#returning-a-view-versus-a-copy\n",
      "  new_df['Tags']=new_df['Tags'].apply(lambda x:\" \".join(x))\n"
     ]
    }
   ],
   "source": [
    "new_df['Tags']=new_df['Tags'].apply(lambda x:\" \".join(x))"
   ]
  },
  {
   "cell_type": "code",
   "execution_count": 21,
   "metadata": {
    "colab": {
     "base_uri": "https://localhost:8080/"
    },
    "id": "Ebpu4LkOLweC",
    "outputId": "69a2b6b3-e84e-4f89-b8e5-acc7161339b4"
   },
   "outputs": [
    {
     "data": {
      "text/plain": [
       "0     seo, keyword research, competitive analysis a ...\n",
       "1     seo, keyword research, competitive analysis an...\n",
       "2     seo, keyword research, competitive analysis an...\n",
       "3     seo, keyword research, competitive analysis a ...\n",
       "4     seo, keyword research, competitive analysis a ...\n",
       "                            ...                        \n",
       "95    project management a project management tool t...\n",
       "96    project management a powerful project manageme...\n",
       "97    project management a project management tool t...\n",
       "98    project management a project management tool t...\n",
       "99    project management a project management tool t...\n",
       "Name: Tags, Length: 100, dtype: object"
      ]
     },
     "execution_count": 21,
     "metadata": {},
     "output_type": "execute_result"
    }
   ],
   "source": [
    "new_df['Tags'].apply(lambda x:x.lower())"
   ]
  },
  {
   "cell_type": "code",
   "execution_count": 22,
   "metadata": {},
   "outputs": [],
   "source": [
    "new_df.to_csv('Tags_Data.csv',index=False)"
   ]
  },
  {
   "cell_type": "code",
   "execution_count": 36,
   "metadata": {
    "id": "HQDCZHnnL4W1"
   },
   "outputs": [],
   "source": [
    "tf= TfidfVectorizer(max_features=200,stop_words='english')"
   ]
  },
  {
   "cell_type": "code",
   "execution_count": 37,
   "metadata": {
    "id": "eQupSk2dMDod"
   },
   "outputs": [],
   "source": [
    "vector=tf.fit_transform(new_df['Tags']).toarray()"
   ]
  },
  {
   "cell_type": "code",
   "execution_count": 38,
   "metadata": {
    "colab": {
     "base_uri": "https://localhost:8080/"
    },
    "id": "DwT8gACoMJC8",
    "outputId": "d17d6d25-e299-449a-bd2a-e8c0ee4bf6a1"
   },
   "outputs": [
    {
     "data": {
      "text/plain": [
       "array([0.        , 0.        , 0.        , 0.        , 0.        ,\n",
       "       0.        , 0.        , 0.        , 0.15116748, 0.        ,\n",
       "       0.        , 0.        , 0.        , 0.30006228, 0.        ,\n",
       "       0.        , 0.        , 0.        , 0.        , 0.        ,\n",
       "       0.        , 0.        , 0.        , 0.        , 0.        ,\n",
       "       0.        , 0.        , 0.        , 0.        , 0.        ,\n",
       "       0.12192763, 0.        , 0.        , 0.        , 0.        ,\n",
       "       0.        , 0.        , 0.        , 0.        , 0.        ,\n",
       "       0.        , 0.        , 0.        , 0.15671347, 0.        ,\n",
       "       0.        , 0.        , 0.        , 0.        , 0.        ,\n",
       "       0.        , 0.        , 0.        , 0.        , 0.        ,\n",
       "       0.        , 0.        , 0.        , 0.        , 0.        ,\n",
       "       0.        , 0.        , 0.        , 0.        , 0.        ,\n",
       "       0.        , 0.        , 0.        , 0.        , 0.        ,\n",
       "       0.        , 0.        , 0.        , 0.        , 0.        ,\n",
       "       0.        , 0.2019448 , 0.        , 0.08598507, 0.        ,\n",
       "       0.23308668, 0.        , 0.        , 0.        , 0.        ,\n",
       "       0.        , 0.        , 0.15116748, 0.        , 0.        ,\n",
       "       0.        , 0.        , 0.        , 0.        , 0.        ,\n",
       "       0.        , 0.        , 0.        , 0.        , 0.        ,\n",
       "       0.        , 0.        , 0.        , 0.        , 0.        ,\n",
       "       0.        , 0.        , 0.        , 0.        , 0.        ,\n",
       "       0.        , 0.        , 0.        , 0.        , 0.        ,\n",
       "       0.27534358, 0.        , 0.        , 0.        , 0.        ,\n",
       "       0.        , 0.        , 0.        , 0.        , 0.        ,\n",
       "       0.        , 0.        , 0.        , 0.        , 0.        ,\n",
       "       0.        , 0.        , 0.        , 0.        , 0.30006228,\n",
       "       0.        , 0.        , 0.        , 0.15116748, 0.        ,\n",
       "       0.        , 0.        , 0.        , 0.        , 0.        ,\n",
       "       0.        , 0.        , 0.        , 0.        , 0.        ,\n",
       "       0.15116748, 0.        , 0.        , 0.        , 0.        ,\n",
       "       0.06157043, 0.        , 0.        , 0.        , 0.        ,\n",
       "       0.        , 0.        , 0.        , 0.        , 0.        ,\n",
       "       0.        , 0.        , 0.        , 0.        , 0.        ,\n",
       "       0.        , 0.27534358, 0.        , 0.        , 0.        ,\n",
       "       0.        , 0.        , 0.        , 0.        , 0.        ,\n",
       "       0.        , 0.        , 0.30006228, 0.        , 0.30006228,\n",
       "       0.21554848, 0.30006228, 0.        , 0.        , 0.        ,\n",
       "       0.        , 0.        , 0.        , 0.        , 0.        ,\n",
       "       0.30006228, 0.        , 0.        , 0.15671347, 0.        ])"
      ]
     },
     "execution_count": 38,
     "metadata": {},
     "output_type": "execute_result"
    }
   ],
   "source": [
    "vector[0]"
   ]
  },
  {
   "cell_type": "code",
   "execution_count": 40,
   "metadata": {
    "colab": {
     "base_uri": "https://localhost:8080/"
    },
    "id": "4Xmk-oikMKvw",
    "outputId": "81bca9d2-f2bc-461c-f2c2-71b16e6975fa"
   },
   "outputs": [],
   "source": [
    "feature_names = tf.get_feature_names_out()"
   ]
  },
  {
   "cell_type": "code",
   "execution_count": 41,
   "metadata": {},
   "outputs": [
    {
     "data": {
      "text/plain": [
       "array(['accounts', 'accurately', 'activities', 'advanced', 'advertising',\n",
       "       'affordable', 'agencies', 'allows', 'analysis', 'analytical',\n",
       "       'analytics', 'analyze', 'api', 'app', 'asking', 'attract',\n",
       "       'audience', 'auditing', 'authentication', 'automate', 'automated',\n",
       "       'automation', 'backlink', 'backlinks', 'based', 'big', 'boards',\n",
       "       'brand', 'bugs', 'build', 'businesses', 'calls', 'campaigns',\n",
       "       'capsule', 'charts', 'chat', 'check', 'cloud', 'collaborate',\n",
       "       'collaboration', 'combines', 'communication', 'competition',\n",
       "       'competitive', 'competitor', 'competitors', 'contacts', 'content',\n",
       "       'convert', 'crawler', 'create', 'crm', 'custom', 'customer',\n",
       "       'customers', 'customizable', 'dashboards', 'data', 'deals',\n",
       "       'deliverability', 'design', 'develop', 'development', 'difficult',\n",
       "       'documents', 'ease', 'easy', 'email', 'emails', 'engagement',\n",
       "       'engine', 'enterprise', 'features', 'focus', 'free', 'freemium',\n",
       "       'great', 'help', 'helps', 'identify', 'improve', 'includes',\n",
       "       'including', 'instagram', 'international', 'issues', 'kanban',\n",
       "       'keyword', 'keywords', 'lacks', 'lead', 'leads', 'like',\n",
       "       'linkedin', 'links', 'long', 'looking', 'low', 'manage',\n",
       "       'management', 'market', 'marketing', 'measure', 'measures',\n",
       "       'media', 'mentions', 'messaging', 'mid', 'monitoring', 'need',\n",
       "       'newsletters', 'offers', 'open', 'opportunities', 'optimize',\n",
       "       'option', 'pay', 'performance', 'pipeline', 'pipelines',\n",
       "       'platforms', 'popular', 'posts', 'powerful', 'predictive',\n",
       "       'profile', 'progress', 'project', 'projects', 'questions', 'range',\n",
       "       'ranking', 'rankings', 'reach', 'real', 'relationships',\n",
       "       'reliable', 'remote', 'research', 'results', 'rich', 'robust',\n",
       "       'sales', 'schedule', 'scheduling', 'scoring', 'search',\n",
       "       'segmentation', 'send', 'sentiment', 'seo', 'sharing', 'signup',\n",
       "       'simple', 'simplified', 'sizes', 'small', 'sms', 'social',\n",
       "       'software', 'solution', 'sources', 'spreadsheets', 'strategies',\n",
       "       'suite', 'tail', 'targeted', 'task', 'tasks', 'teams', 'templates',\n",
       "       'testing', 'time', 'tool', 'tools', 'track', 'tracking', 'tracks',\n",
       "       'traffic', 'transactional', 'twitter', 'understand', 'usability',\n",
       "       'use', 'user', 'users', 'userzoom', 'uses', 'variety', 'versatile',\n",
       "       'version', 'video', 'visibility', 'visual', 'voice', 'want', 'way',\n",
       "       'web', 'website', 'wide'], dtype=object)"
      ]
     },
     "execution_count": 41,
     "metadata": {},
     "output_type": "execute_result"
    }
   ],
   "source": [
    "feature_names"
   ]
  },
  {
   "cell_type": "code",
   "execution_count": 53,
   "metadata": {
    "id": "bBwGfsD3MbVY"
   },
   "outputs": [],
   "source": [
    "from sklearn.metrics.pairwise import cosine_similarity"
   ]
  },
  {
   "cell_type": "code",
   "execution_count": 54,
   "metadata": {
    "id": "xSI_It6SMhCE"
   },
   "outputs": [],
   "source": [
    "similarity=cosine_similarity(vector)"
   ]
  },
  {
   "cell_type": "code",
   "execution_count": 55,
   "metadata": {
    "id": "1rmrURuFMiRd"
   },
   "outputs": [],
   "source": [
    "def find_tool(query, num_results=5):\n",
    "    # Convert the query to lowercase and tokenize it\n",
    "    query_vector = tf.transform([query.lower()]).toarray()\n",
    "\n",
    "    # Calculate cosine similarity between the query and all tools\n",
    "    similarities = cosine_similarity(query_vector, vector)\n",
    "\n",
    "    # Find the indices of the top N most similar tools\n",
    "    most_similar_indices = np.argsort(similarities[0])[::-1][:num_results]\n",
    "\n",
    "    # Get the names of the most similar tools\n",
    "    most_similar_tool_names = [new_df.iloc[index]['Tool Name'] for index in most_similar_indices]\n",
    "\n",
    "    return most_similar_tool_names"
   ]
  },
  {
   "cell_type": "code",
   "execution_count": 56,
   "metadata": {
    "id": "8zb3PzokMkJe"
   },
   "outputs": [],
   "source": [
    "def find_info(tool_names):\n",
    "    df_info = pd.read_csv('usable_dataset1.csv')\n",
    "\n",
    "    # Filter the tool information DataFrame based on the provided tool names\n",
    "    tool_information = df_info[df_info['Tool Name'].isin(tool_names)]\n",
    "\n",
    "    # Create a dictionary to map tool names to their information\n",
    "    tool_info_dict = {row['Tool Name']: row for _, row in tool_information.iterrows()}\n",
    "\n",
    "    # Create a list of tool information in the order of tool_names\n",
    "    ordered_tool_info = [tool_info_dict[tool_name] for tool_name in tool_names]\n",
    "\n",
    "    return ordered_tool_info"
   ]
  },
  {
   "cell_type": "code",
   "execution_count": 60,
   "metadata": {
    "id": "peYEaixwMlvy"
   },
   "outputs": [],
   "source": [
    "user_query = \"give me a leads management tool\"\n",
    "top_similar_tools = find_tool(user_query, num_results=5)\n",
    "tool_info=find_info(top_similar_tools)"
   ]
  },
  {
   "cell_type": "code",
   "execution_count": 61,
   "metadata": {
    "colab": {
     "base_uri": "https://localhost:8080/"
    },
    "id": "T8e7T2Q7Rg21",
    "outputId": "0d40402b-18bd-4ba6-ee3a-2c4b0ceac5a4"
   },
   "outputs": [
    {
     "data": {
      "text/plain": [
       "['FreeAgent CRM',\n",
       " 'Salesflare',\n",
       " 'Insightly CRM Lite',\n",
       " \"A Salesman's CRM\",\n",
       " 'Hive']"
      ]
     },
     "execution_count": 61,
     "metadata": {},
     "output_type": "execute_result"
    }
   ],
   "source": [
    "top_similar_tools"
   ]
  },
  {
   "cell_type": "code",
   "execution_count": 62,
   "metadata": {
    "colab": {
     "base_uri": "https://localhost:8080/",
     "height": 293
    },
    "id": "8R66POWYMnoq",
    "outputId": "2deebd5b-76b1-4025-f3fe-b58af92da50b"
   },
   "outputs": [
    {
     "data": {
      "text/plain": [
       "[Tool Name                                              FreeAgent CRM\n",
       " Category                                    CRM tool to manage leads\n",
       " Features           A CRM tool that helps you track your leads, op...\n",
       " Pricing                                          Starts at $10/month\n",
       " Reviews                                 4.5/5 stars (1,500+ reviews)\n",
       " Target Audience                              Businesses of all sizes\n",
       " Name: 25, dtype: object,\n",
       " Tool Name                                                 Salesflare\n",
       " Category                                    CRM tool to manage leads\n",
       " Features           A CRM tool that helps you track your leads, op...\n",
       " Pricing                                     Starts at $49/user/month\n",
       " Reviews                                 4.8/5 stars (3,000+ reviews)\n",
       " Target Audience                              Businesses of all sizes\n",
       " Name: 24, dtype: object,\n",
       " Tool Name                                         Insightly CRM Lite\n",
       " Category                                    CRM tool to manage leads\n",
       " Features           A CRM tool that helps you track your leads, op...\n",
       " Pricing                                     Starts at $10/user/month\n",
       " Reviews                                 4.6/5 stars (1,000+ reviews)\n",
       " Target Audience                              Businesses of all sizes\n",
       " Name: 27, dtype: object,\n",
       " Tool Name                                           A Salesman's CRM\n",
       " Category                                    CRM tool to manage leads\n",
       " Features           A CRM tool that helps you track your leads, op...\n",
       " Pricing                                     Starts at $15/user/month\n",
       " Reviews                                 4.8/5 stars (1,000+ reviews)\n",
       " Target Audience                              Businesses of all sizes\n",
       " Name: 29, dtype: object,\n",
       " Tool Name                                                       Hive\n",
       " Category                                          Project Management\n",
       " Features           A project management tool that combines task m...\n",
       " Pricing                         Freemium, starting at $12/user/month\n",
       " Reviews                                4.6/5 stars (50,000+ reviews)\n",
       " Target Audience                              Businesses of all sizes\n",
       " Name: 92, dtype: object]"
      ]
     },
     "execution_count": 62,
     "metadata": {},
     "output_type": "execute_result"
    }
   ],
   "source": [
    "tool_info"
   ]
  },
  {
   "cell_type": "code",
   "execution_count": null,
   "metadata": {
    "id": "UHEbaIBqNo8X"
   },
   "outputs": [],
   "source": [
    "from fastapi import FastAPI\n",
    "from pydantic import BaseModel\n",
    "from fastapi.middleware.cors import CORSMiddleware\n",
    "import webbrowser\n",
    "import uvicorn\n",
    "app = FastAPI(docs_url='/cap/docs', redoc_url='/cap/redocs',openapi_url='/cap/openapi.json')\n",
    "origins = [\"*\"]\n",
    "app.add_middleware(\n",
    "CORSMiddleware,\n",
    "    # allow_origins=origins,\n",
    "    allow_origins=[\"*\"],\n",
    "    allow_credentials=True,\n",
    "    allow_methods=[\"*\"],\n",
    "    allow_headers=[\"*\"],\n",
    ")\n",
    "class QuestionInput(BaseModel):\n",
    "    question: str\n",
    "\n",
    "\n",
    "\n",
    "@app.post(\"/cap\")\n",
    "async def predict(question_input: QuestionInput):\n",
    "    try:\n",
    "        question = question_input.question\n",
    "        print(question)\n",
    "        out= find_tool(question)\n",
    "        result=find_info(out)\n",
    "        return result\n",
    "    except Exception as e:\n",
    "        return {\"error\": str(e)}\n"
   ]
  },
  {
   "cell_type": "code",
   "execution_count": null,
   "metadata": {},
   "outputs": [],
   "source": []
  }
 ],
 "metadata": {
  "colab": {
   "provenance": []
  },
  "kernelspec": {
   "display_name": "Python 3 (ipykernel)",
   "language": "python",
   "name": "python3"
  },
  "language_info": {
   "codemirror_mode": {
    "name": "ipython",
    "version": 3
   },
   "file_extension": ".py",
   "mimetype": "text/x-python",
   "name": "python",
   "nbconvert_exporter": "python",
   "pygments_lexer": "ipython3",
   "version": "3.10.10"
  }
 },
 "nbformat": 4,
 "nbformat_minor": 1
}
